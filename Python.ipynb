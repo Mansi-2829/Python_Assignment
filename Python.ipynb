{
  "nbformat": 4,
  "nbformat_minor": 0,
  "metadata": {
    "colab": {
      "provenance": []
    },
    "kernelspec": {
      "name": "python3",
      "display_name": "Python 3"
    },
    "language_info": {
      "name": "python"
    }
  },
  "cells": [
    {
      "cell_type": "code",
      "execution_count": null,
      "metadata": {
        "id": "9jckc6-Lz8Uu"
      },
      "outputs": [],
      "source": [
        "#Variable - data container & data types \n",
        "_a_ = \" Hello \" #String ( anything written in single or double qoutes )\n",
        "a= 534   #int\n",
        "A= 163.25  #Float \n",
        "a1= True #Boolean  \n"
      ]
    },
    {
      "cell_type": "code",
      "source": [
        "print(_a_)"
      ],
      "metadata": {
        "colab": {
          "base_uri": "https://localhost:8080/"
        },
        "id": "sli8d0Nm0IFs",
        "outputId": "4b97b7b7-db3c-4074-ba79-23239ad00454"
      },
      "execution_count": null,
      "outputs": [
        {
          "output_type": "stream",
          "name": "stdout",
          "text": [
            " Hello \n"
          ]
        }
      ]
    },
    {
      "cell_type": "code",
      "source": [
        "print(\"Hello\")"
      ],
      "metadata": {
        "colab": {
          "base_uri": "https://localhost:8080/"
        },
        "id": "j8fAdFrf1agT",
        "outputId": "9498d2ef-4fdc-458d-b76f-c5b90dc2d8ff"
      },
      "execution_count": null,
      "outputs": [
        {
          "output_type": "stream",
          "name": "stdout",
          "text": [
            "Hello\n"
          ]
        }
      ]
    },
    {
      "cell_type": "code",
      "source": [
        "name = \"Tom\"\n",
        "print(name)"
      ],
      "metadata": {
        "colab": {
          "base_uri": "https://localhost:8080/"
        },
        "id": "_Kg2HM0q1fZI",
        "outputId": "090ca933-cf6b-41e1-de68-b23331e9b825"
      },
      "execution_count": null,
      "outputs": [
        {
          "output_type": "stream",
          "name": "stdout",
          "text": [
            "Tom\n"
          ]
        }
      ]
    },
    {
      "cell_type": "code",
      "source": [
        "print(type(name))"
      ],
      "metadata": {
        "colab": {
          "base_uri": "https://localhost:8080/"
        },
        "id": "cg7tgXA92awx",
        "outputId": "0775d49d-1c09-460e-d396-a3e81f468efd"
      },
      "execution_count": null,
      "outputs": [
        {
          "output_type": "stream",
          "name": "stdout",
          "text": [
            "<class 'str'>\n"
          ]
        }
      ]
    },
    {
      "cell_type": "code",
      "source": [
        "num1 = 10 \n",
        "num2 = 233.34"
      ],
      "metadata": {
        "id": "n6c7bLGy2ejZ"
      },
      "execution_count": null,
      "outputs": []
    },
    {
      "cell_type": "code",
      "source": [
        "print(num1+num2)"
      ],
      "metadata": {
        "colab": {
          "base_uri": "https://localhost:8080/"
        },
        "id": "b_9dvHxb2j0l",
        "outputId": "0dd51faf-5933-4270-87f6-4dbd1dc2ba2f"
      },
      "execution_count": null,
      "outputs": [
        {
          "output_type": "stream",
          "name": "stdout",
          "text": [
            "243.34\n"
          ]
        }
      ]
    },
    {
      "cell_type": "code",
      "source": [
        "print(type(num1))"
      ],
      "metadata": {
        "colab": {
          "base_uri": "https://localhost:8080/"
        },
        "id": "z4y6duQV2mKg",
        "outputId": "b737cf51-8ecd-41a6-d68f-08833464dd7f"
      },
      "execution_count": null,
      "outputs": [
        {
          "output_type": "stream",
          "name": "stdout",
          "text": [
            "<class 'int'>\n"
          ]
        }
      ]
    },
    {
      "cell_type": "code",
      "source": [
        "print(type(num2))"
      ],
      "metadata": {
        "colab": {
          "base_uri": "https://localhost:8080/"
        },
        "id": "5rKe-nuC2orj",
        "outputId": "af532909-ed8b-444c-965e-82ee51a63815"
      },
      "execution_count": null,
      "outputs": [
        {
          "output_type": "stream",
          "name": "stdout",
          "text": [
            "<class 'float'>\n"
          ]
        }
      ]
    },
    {
      "cell_type": "code",
      "source": [
        "print(type(num1+num2))"
      ],
      "metadata": {
        "colab": {
          "base_uri": "https://localhost:8080/"
        },
        "id": "PNIVLBom2rTz",
        "outputId": "ade50867-a7ce-47fb-b41d-1b9d4668333c"
      },
      "execution_count": null,
      "outputs": [
        {
          "output_type": "stream",
          "name": "stdout",
          "text": [
            "<class 'float'>\n"
          ]
        }
      ]
    },
    {
      "cell_type": "code",
      "source": [
        "print(10>9)"
      ],
      "metadata": {
        "colab": {
          "base_uri": "https://localhost:8080/"
        },
        "id": "3wpiecKq2vxS",
        "outputId": "55f29d16-7393-46d3-9a73-a7f77ba9c2ba"
      },
      "execution_count": null,
      "outputs": [
        {
          "output_type": "stream",
          "name": "stdout",
          "text": [
            "True\n"
          ]
        }
      ]
    },
    {
      "cell_type": "code",
      "source": [
        "print(9<8)"
      ],
      "metadata": {
        "colab": {
          "base_uri": "https://localhost:8080/"
        },
        "id": "nab40bTY20-F",
        "outputId": "a0d81bee-f769-471d-9db6-64c825334d15"
      },
      "execution_count": null,
      "outputs": [
        {
          "output_type": "stream",
          "name": "stdout",
          "text": [
            "False\n"
          ]
        }
      ]
    },
    {
      "cell_type": "code",
      "source": [
        "#collection datatypes in python\n",
        "''' List\n",
        "Tuples\n",
        "Set\n",
        "Dictionary'''\n"
      ],
      "metadata": {
        "colab": {
          "base_uri": "https://localhost:8080/",
          "height": 36
        },
        "id": "lpyG5oKM23HM",
        "outputId": "ab58799b-05d4-45ff-b599-ad9e84638dd3"
      },
      "execution_count": null,
      "outputs": [
        {
          "output_type": "execute_result",
          "data": {
            "text/plain": [
              "' List\\nTuples\\nSet\\nDictionary'"
            ],
            "application/vnd.google.colaboratory.intrinsic+json": {
              "type": "string"
            }
          },
          "metadata": {},
          "execution_count": 13
        }
      ]
    },
    {
      "cell_type": "code",
      "source": [
        "num1 = 10\n",
        "num2 = 9\n",
        "print(num1*num2)"
      ],
      "metadata": {
        "colab": {
          "base_uri": "https://localhost:8080/"
        },
        "id": "-p5pbAxK4DCJ",
        "outputId": "90aa4c52-a67c-41ee-cf11-e1040126e8d6"
      },
      "execution_count": null,
      "outputs": [
        {
          "output_type": "stream",
          "name": "stdout",
          "text": [
            "90\n"
          ]
        }
      ]
    },
    {
      "cell_type": "code",
      "source": [
        "#List - is a ordered collection of datatypes, uses [] brackets, is mutable/changeable \n",
        "mylist = [\"Data\",\"Status\",\"Completed\",\"Types\",263, False ]\n",
        "print(mylist)"
      ],
      "metadata": {
        "colab": {
          "base_uri": "https://localhost:8080/"
        },
        "id": "Aq4_nwov4Jkz",
        "outputId": "ab33a2b5-f190-48da-8599-c5a3f6055b86"
      },
      "execution_count": null,
      "outputs": [
        {
          "output_type": "stream",
          "name": "stdout",
          "text": [
            "['Data', 'Status', 'Completed', 'Types', 263, False]\n"
          ]
        }
      ]
    },
    {
      "cell_type": "code",
      "source": [
        "print(type(mylist))"
      ],
      "metadata": {
        "colab": {
          "base_uri": "https://localhost:8080/"
        },
        "id": "PlI_llNV5fad",
        "outputId": "8db06bfa-293d-4d32-f183-274630eb5a6e"
      },
      "execution_count": null,
      "outputs": [
        {
          "output_type": "stream",
          "name": "stdout",
          "text": [
            "<class 'list'>\n"
          ]
        }
      ]
    },
    {
      "cell_type": "code",
      "source": [
        "#Index number - printing the individual data\n",
        "#positive indexing\n",
        "print(mylist[0])\n",
        "print(mylist[1])\n",
        "print(mylist[2])\n",
        "print(mylist[3])\n",
        "print(mylist[4])\n",
        "\n"
      ],
      "metadata": {
        "colab": {
          "base_uri": "https://localhost:8080/"
        },
        "id": "OLdX5HF-5m9d",
        "outputId": "0e5bffbd-85a6-4b92-9bb5-e559f76ccd0d"
      },
      "execution_count": null,
      "outputs": [
        {
          "output_type": "stream",
          "name": "stdout",
          "text": [
            "Data\n",
            "Status\n",
            "Completed\n",
            "Types\n",
            "263\n"
          ]
        }
      ]
    },
    {
      "cell_type": "code",
      "source": [
        "#Negative indexing \n",
        "print(mylist[-1])\n",
        "print(mylist[-2])\n",
        "print(mylist[-3])\n",
        "print(mylist[-4])\n",
        "print(mylist[-5])"
      ],
      "metadata": {
        "colab": {
          "base_uri": "https://localhost:8080/"
        },
        "id": "9UmyGSLP5-eN",
        "outputId": "3db27e7f-ad52-4ea6-ac3a-02032e4fba43"
      },
      "execution_count": null,
      "outputs": [
        {
          "output_type": "stream",
          "name": "stdout",
          "text": [
            "False\n",
            "263\n",
            "Types\n",
            "Completed\n",
            "Status\n"
          ]
        }
      ]
    },
    {
      "cell_type": "code",
      "source": [
        "print(mylist)"
      ],
      "metadata": {
        "id": "WlNdNSyX6Hge",
        "colab": {
          "base_uri": "https://localhost:8080/"
        },
        "outputId": "1c19330e-fda5-4867-8039-34dad480e62a"
      },
      "execution_count": null,
      "outputs": [
        {
          "output_type": "stream",
          "name": "stdout",
          "text": [
            "['Data', 'Status', 'Completed', 'Types', 263, False]\n"
          ]
        }
      ]
    },
    {
      "cell_type": "code",
      "source": [
        "#Updating the data / mutuable data \n",
        "mylist[-1] = True\n",
        "print(mylist)"
      ],
      "metadata": {
        "colab": {
          "base_uri": "https://localhost:8080/"
        },
        "id": "Cd6QlAMQOGIi",
        "outputId": "ab7a212c-010a-4454-eb8e-6e67bb9d978a"
      },
      "execution_count": null,
      "outputs": [
        {
          "output_type": "stream",
          "name": "stdout",
          "text": [
            "['Data', 'Status', 'Completed', 'Types', 263, True]\n"
          ]
        }
      ]
    },
    {
      "cell_type": "code",
      "source": [
        "#Append the data \n",
        "mylist.append(34.6)\n",
        "print(mylist)"
      ],
      "metadata": {
        "colab": {
          "base_uri": "https://localhost:8080/"
        },
        "id": "ZYgRAb6_ON2h",
        "outputId": "afc70b31-86e9-4fbb-bf3d-1f57979a5897"
      },
      "execution_count": null,
      "outputs": [
        {
          "output_type": "stream",
          "name": "stdout",
          "text": [
            "['Data', 'Status', 'Completed', 'Types', 263, True, 34.6]\n"
          ]
        }
      ]
    },
    {
      "cell_type": "code",
      "source": [
        "#Inserting the value\n",
        "#insert(Index, Value)\n",
        "mylist.insert(2, 34.4)\n",
        "print(mylist)"
      ],
      "metadata": {
        "colab": {
          "base_uri": "https://localhost:8080/"
        },
        "id": "-ZNu_qVwOlUn",
        "outputId": "32f8367e-e45f-4e36-edf6-b22c7b2bca22"
      },
      "execution_count": null,
      "outputs": [
        {
          "output_type": "stream",
          "name": "stdout",
          "text": [
            "['Data', 'Status', 34.4, 'Completed', 'Types', 263, True, 34.6]\n"
          ]
        }
      ]
    },
    {
      "cell_type": "code",
      "source": [
        "# EXtend \n",
        "a = [1,2,3,4,4]\n",
        "b = [455,87,9,0]\n",
        "a.extend(b)\n",
        "print(a)\n",
        "a.remove(0)\n",
        "print(a)\n",
        "a.remove(4)\n",
        "print(a)"
      ],
      "metadata": {
        "colab": {
          "base_uri": "https://localhost:8080/"
        },
        "id": "XDT6_NsNOxBt",
        "outputId": "45782e41-1028-4e29-bdf9-cff1a0452886"
      },
      "execution_count": null,
      "outputs": [
        {
          "output_type": "stream",
          "name": "stdout",
          "text": [
            "[1, 2, 3, 4, 4, 455, 87, 9, 0]\n",
            "[1, 2, 3, 4, 4, 455, 87, 9]\n",
            "[1, 2, 3, 4, 455, 87, 9]\n"
          ]
        }
      ]
    },
    {
      "cell_type": "code",
      "source": [
        "mylist.extend(a)"
      ],
      "metadata": {
        "id": "pOjsbiSAPxTz"
      },
      "execution_count": null,
      "outputs": []
    },
    {
      "cell_type": "code",
      "source": [
        "print(mylist)"
      ],
      "metadata": {
        "colab": {
          "base_uri": "https://localhost:8080/"
        },
        "id": "jkAvNmbDYvIX",
        "outputId": "a8ae3b83-5e14-451e-9422-e96f9ae0cfc2"
      },
      "execution_count": null,
      "outputs": [
        {
          "output_type": "stream",
          "name": "stdout",
          "text": [
            "['Data', 'Status', 34.4, 'Completed', 'Types', 263, True, 34.6, 1, 2, 3, 4, 455, 87, 9, 0]\n"
          ]
        }
      ]
    },
    {
      "cell_type": "code",
      "source": [
        "del a"
      ],
      "metadata": {
        "id": "N0AktLcxYxX7"
      },
      "execution_count": null,
      "outputs": []
    },
    {
      "cell_type": "code",
      "source": [
        "print(a)"
      ],
      "metadata": {
        "colab": {
          "base_uri": "https://localhost:8080/",
          "height": 172
        },
        "id": "hyMHkHr5aV-1",
        "outputId": "a041837d-9dc8-4d31-9ce1-a35effed7bba"
      },
      "execution_count": null,
      "outputs": [
        {
          "output_type": "error",
          "ename": "NameError",
          "evalue": "ignored",
          "traceback": [
            "\u001b[0;31m---------------------------------------------------------------------------\u001b[0m",
            "\u001b[0;31mNameError\u001b[0m                                 Traceback (most recent call last)",
            "\u001b[0;32m<ipython-input-33-bca0e2660b9f>\u001b[0m in \u001b[0;36m<module>\u001b[0;34m\u001b[0m\n\u001b[0;32m----> 1\u001b[0;31m \u001b[0mprint\u001b[0m\u001b[0;34m(\u001b[0m\u001b[0ma\u001b[0m\u001b[0;34m)\u001b[0m\u001b[0;34m\u001b[0m\u001b[0;34m\u001b[0m\u001b[0m\n\u001b[0m",
            "\u001b[0;31mNameError\u001b[0m: name 'a' is not defined"
          ]
        }
      ]
    },
    {
      "cell_type": "code",
      "source": [
        "#concatenation - adding two strings\n",
        "a = [1,2,3,4]\n",
        "a[3]=5\n",
        "print(\"The updated list is :\",a)"
      ],
      "metadata": {
        "colab": {
          "base_uri": "https://localhost:8080/"
        },
        "id": "E4Fd-aVoaXrL",
        "outputId": "4385c324-a3d3-4f6d-e01a-82efee724760"
      },
      "execution_count": null,
      "outputs": [
        {
          "output_type": "stream",
          "name": "stdout",
          "text": [
            "The updated list is : [1, 2, 3, 5]\n"
          ]
        }
      ]
    },
    {
      "cell_type": "code",
      "source": [
        "num1 = 200\n",
        "num2 = 300\n",
        "sum = num1+num2 \n",
        "print(\"The sum of numbers is\", sum) "
      ],
      "metadata": {
        "colab": {
          "base_uri": "https://localhost:8080/"
        },
        "id": "K0jz-WRPcvcc",
        "outputId": "f22eb616-1f50-4b16-892e-96addca5b8df"
      },
      "execution_count": null,
      "outputs": [
        {
          "output_type": "stream",
          "name": "stdout",
          "text": [
            "The sum of numbers is 500\n"
          ]
        }
      ]
    },
    {
      "cell_type": "code",
      "source": [
        "x = input(\"Enter the value x :\")\n",
        "y = input(\"Enter the value y :\")\n",
        "print(\"The total is \", x+y) #here it is concatenating that means just joining the two strings instead of addition as we have seen the above case\n"
      ],
      "metadata": {
        "colab": {
          "base_uri": "https://localhost:8080/"
        },
        "id": "cROJjGy3eo8M",
        "outputId": "8fbf6408-89ba-46f2-edf6-b98a843fec10"
      },
      "execution_count": null,
      "outputs": [
        {
          "output_type": "stream",
          "name": "stdout",
          "text": [
            "Enter the value x :200\n",
            "Enter the value y :300\n",
            "The total is  200300\n"
          ]
        }
      ]
    },
    {
      "cell_type": "code",
      "source": [
        " #Incase we need to use them as integers and want to add them. This is similar to C++\n",
        "x = int(input(\"Enter the value x :\"))\n",
        "y = int(input(\"Enter the value y :\"))\n",
        "print(\"The total is \", x+y)"
      ],
      "metadata": {
        "colab": {
          "base_uri": "https://localhost:8080/"
        },
        "id": "4iaqGI27e1jX",
        "outputId": "6457d3b9-2525-4555-8269-e38a0fc9f8bc"
      },
      "execution_count": null,
      "outputs": [
        {
          "output_type": "stream",
          "name": "stdout",
          "text": [
            "Enter the value x :2\n",
            "Enter the value y :4\n",
            "The total is  6\n"
          ]
        }
      ]
    },
    {
      "cell_type": "code",
      "source": [
        "# Collective data types - collection of data can be stored under a variable \n",
        "#List\n",
        "#Tuple\n",
        "#Set\n",
        "#Dictionary  "
      ],
      "metadata": {
        "id": "T97PrBOZyt77"
      },
      "execution_count": null,
      "outputs": []
    },
    {
      "cell_type": "code",
      "source": [
        "#Tuples - ordered collection of data, (), non-mutuable\n",
        "mytuple = (\"Dell\",547, \"HP\", 34.6, False)\n",
        "print(mytuple)"
      ],
      "metadata": {
        "colab": {
          "base_uri": "https://localhost:8080/"
        },
        "id": "olZoCDbzzNrq",
        "outputId": "c0815cf9-e0e4-40a2-fca5-3b4902c43d06"
      },
      "execution_count": null,
      "outputs": [
        {
          "output_type": "stream",
          "name": "stdout",
          "text": [
            "('Dell', 547, 'HP', 34.6, False)\n"
          ]
        }
      ]
    },
    {
      "cell_type": "code",
      "source": [
        "len(mytuple) # Give total number of dataset\n",
        "mytuple.insert(3,456)\n"
      ],
      "metadata": {
        "colab": {
          "base_uri": "https://localhost:8080/",
          "height": 245
        },
        "id": "cctnzeqKzuyI",
        "outputId": "874854d1-bcfd-42a2-c82d-bef5361cac1c"
      },
      "execution_count": null,
      "outputs": [
        {
          "output_type": "error",
          "ename": "AttributeError",
          "evalue": "ignored",
          "traceback": [
            "\u001b[0;31m---------------------------------------------------------------------------\u001b[0m",
            "\u001b[0;31mAttributeError\u001b[0m                            Traceback (most recent call last)",
            "\u001b[0;32m<ipython-input-6-606497416e07>\u001b[0m in \u001b[0;36m<module>\u001b[0;34m\u001b[0m\n\u001b[1;32m      1\u001b[0m \u001b[0mlen\u001b[0m\u001b[0;34m(\u001b[0m\u001b[0mmytuple\u001b[0m\u001b[0;34m)\u001b[0m \u001b[0;31m# Give total number of dataset\u001b[0m\u001b[0;34m\u001b[0m\u001b[0;34m\u001b[0m\u001b[0m\n\u001b[0;32m----> 2\u001b[0;31m \u001b[0mmytuple\u001b[0m\u001b[0;34m.\u001b[0m\u001b[0minsert\u001b[0m\u001b[0;34m(\u001b[0m\u001b[0;36m3\u001b[0m\u001b[0;34m,\u001b[0m\u001b[0;36m456\u001b[0m\u001b[0;34m)\u001b[0m\u001b[0;34m\u001b[0m\u001b[0;34m\u001b[0m\u001b[0m\n\u001b[0m\u001b[1;32m      3\u001b[0m \u001b[0mtup\u001b[0m \u001b[0;34m=\u001b[0m \u001b[0;34m(\u001b[0m\u001b[0;36m456\u001b[0m\u001b[0;34m,\u001b[0m\u001b[0;36m258.3\u001b[0m\u001b[0;34m)\u001b[0m\u001b[0;34m\u001b[0m\u001b[0;34m\u001b[0m\u001b[0m\n\u001b[1;32m      4\u001b[0m \u001b[0mmytuple\u001b[0m\u001b[0;34m.\u001b[0m\u001b[0mextend\u001b[0m\u001b[0;34m(\u001b[0m\u001b[0mtup\u001b[0m\u001b[0;34m)\u001b[0m\u001b[0;34m\u001b[0m\u001b[0;34m\u001b[0m\u001b[0m\n\u001b[1;32m      5\u001b[0m \u001b[0mprint\u001b[0m\u001b[0;34m(\u001b[0m\u001b[0mmytuple\u001b[0m\u001b[0;34m)\u001b[0m\u001b[0;34m\u001b[0m\u001b[0;34m\u001b[0m\u001b[0m\n",
            "\u001b[0;31mAttributeError\u001b[0m: 'tuple' object has no attribute 'insert'"
          ]
        }
      ]
    },
    {
      "cell_type": "code",
      "source": [
        "tup = (456,258.3)\n",
        "mytuple.extend(tup)\n",
        "print(mytuple)"
      ],
      "metadata": {
        "colab": {
          "base_uri": "https://localhost:8080/",
          "height": 209
        },
        "id": "VadRLmyXzxa_",
        "outputId": "c1b9e6d0-ba01-4149-bf83-e9aa6616bc61"
      },
      "execution_count": null,
      "outputs": [
        {
          "output_type": "error",
          "ename": "AttributeError",
          "evalue": "ignored",
          "traceback": [
            "\u001b[0;31m---------------------------------------------------------------------------\u001b[0m",
            "\u001b[0;31mAttributeError\u001b[0m                            Traceback (most recent call last)",
            "\u001b[0;32m<ipython-input-7-84960ac5868c>\u001b[0m in \u001b[0;36m<module>\u001b[0;34m\u001b[0m\n\u001b[1;32m      1\u001b[0m \u001b[0mtup\u001b[0m \u001b[0;34m=\u001b[0m \u001b[0;34m(\u001b[0m\u001b[0;36m456\u001b[0m\u001b[0;34m,\u001b[0m\u001b[0;36m258.3\u001b[0m\u001b[0;34m)\u001b[0m\u001b[0;34m\u001b[0m\u001b[0;34m\u001b[0m\u001b[0m\n\u001b[0;32m----> 2\u001b[0;31m \u001b[0mmytuple\u001b[0m\u001b[0;34m.\u001b[0m\u001b[0mextend\u001b[0m\u001b[0;34m(\u001b[0m\u001b[0mtup\u001b[0m\u001b[0;34m)\u001b[0m\u001b[0;34m\u001b[0m\u001b[0;34m\u001b[0m\u001b[0m\n\u001b[0m\u001b[1;32m      3\u001b[0m \u001b[0mprint\u001b[0m\u001b[0;34m(\u001b[0m\u001b[0mmytuple\u001b[0m\u001b[0;34m)\u001b[0m\u001b[0;34m\u001b[0m\u001b[0;34m\u001b[0m\u001b[0m\n",
            "\u001b[0;31mAttributeError\u001b[0m: 'tuple' object has no attribute 'extend'"
          ]
        }
      ]
    },
    {
      "cell_type": "code",
      "source": [
        "#Dictionary - {}, ordered collection of datatypes, in terms of keys and values , mutuable\n",
        "mydic = {\n",
        "         \"username\": \"Admin\", \n",
        "         \"Password\": \"Pass\",\n",
        "         \"Batch\" : 2023,}\n",
        "print(mydic)"
      ],
      "metadata": {
        "id": "L4IwQpXA0XVQ",
        "colab": {
          "base_uri": "https://localhost:8080/"
        },
        "outputId": "d1f83757-e491-43d4-d4ff-623ed799ca6b"
      },
      "execution_count": null,
      "outputs": [
        {
          "output_type": "stream",
          "name": "stdout",
          "text": [
            "{'username': 'Admin', 'Password': 'Pass', 'Batch': 2023}\n"
          ]
        }
      ]
    },
    {
      "cell_type": "code",
      "source": [
        "print(mydic[\"username\"])"
      ],
      "metadata": {
        "colab": {
          "base_uri": "https://localhost:8080/"
        },
        "id": "htW3Pkiujy6T",
        "outputId": "6bacbc49-f0e9-4e13-ff87-ef1db9ba3e64"
      },
      "execution_count": null,
      "outputs": [
        {
          "output_type": "stream",
          "name": "stdout",
          "text": [
            "Admin\n"
          ]
        }
      ]
    },
    {
      "cell_type": "code",
      "source": [
        "print(mydic[\"Admin\"])"
      ],
      "metadata": {
        "colab": {
          "base_uri": "https://localhost:8080/",
          "height": 172
        },
        "id": "nkX0jwNYj9Nj",
        "outputId": "320e5931-4a63-45a2-9ab2-ba0339177b00"
      },
      "execution_count": null,
      "outputs": [
        {
          "output_type": "error",
          "ename": "KeyError",
          "evalue": "ignored",
          "traceback": [
            "\u001b[0;31m---------------------------------------------------------------------------\u001b[0m",
            "\u001b[0;31mKeyError\u001b[0m                                  Traceback (most recent call last)",
            "\u001b[0;32m<ipython-input-3-9ff6ed918535>\u001b[0m in \u001b[0;36m<module>\u001b[0;34m\u001b[0m\n\u001b[0;32m----> 1\u001b[0;31m \u001b[0mprint\u001b[0m\u001b[0;34m(\u001b[0m\u001b[0mmydic\u001b[0m\u001b[0;34m[\u001b[0m\u001b[0;34m\"Admin\"\u001b[0m\u001b[0;34m]\u001b[0m\u001b[0;34m)\u001b[0m\u001b[0;34m\u001b[0m\u001b[0;34m\u001b[0m\u001b[0m\n\u001b[0m",
            "\u001b[0;31mKeyError\u001b[0m: 'Admin'"
          ]
        }
      ]
    },
    {
      "cell_type": "code",
      "source": [
        "#Updating the values in dictionary \n",
        "mydic[\"username\"]=\"Adams\"\n",
        "print(mydic)"
      ],
      "metadata": {
        "colab": {
          "base_uri": "https://localhost:8080/"
        },
        "id": "NyfmboDIkAsv",
        "outputId": "f9b13d9f-6585-45e0-b5af-79d445623b6a"
      },
      "execution_count": null,
      "outputs": [
        {
          "output_type": "stream",
          "name": "stdout",
          "text": [
            "{'username': 'Adams', 'Password': 'Pass', 'Batch': 2023}\n"
          ]
        }
      ]
    },
    {
      "cell_type": "code",
      "source": [
        "mydic.insert(\"ID\"=5236)\n",
        "print(mydic)"
      ],
      "metadata": {
        "colab": {
          "base_uri": "https://localhost:8080/",
          "height": 136
        },
        "id": "UH08VIjFlUva",
        "outputId": "6dad6159-290b-4b87-9a12-c982667c924e"
      },
      "execution_count": null,
      "outputs": [
        {
          "output_type": "error",
          "ename": "SyntaxError",
          "evalue": "ignored",
          "traceback": [
            "\u001b[0;36m  File \u001b[0;32m\"<ipython-input-6-fbbb0e6d60f3>\"\u001b[0;36m, line \u001b[0;32m1\u001b[0m\n\u001b[0;31m    mydic.insert(\"ID\"=5236)\u001b[0m\n\u001b[0m                 ^\u001b[0m\n\u001b[0;31mSyntaxError\u001b[0m\u001b[0;31m:\u001b[0m expression cannot contain assignment, perhaps you meant \"==\"?\n"
          ]
        }
      ]
    },
    {
      "cell_type": "code",
      "source": [
        "#Appending the data in the dictionary  \n",
        "mydic[\"ID\"]=2536\n",
        "print(mydic)"
      ],
      "metadata": {
        "colab": {
          "base_uri": "https://localhost:8080/"
        },
        "id": "s5lcrRrGleV2",
        "outputId": "f0a7fe63-aee7-409a-fbb5-3454933ea77d"
      },
      "execution_count": null,
      "outputs": [
        {
          "output_type": "stream",
          "name": "stdout",
          "text": [
            "{'username': 'Adams', 'Password': 'Pass', 'Batch': 2023, 'ID': 2536}\n"
          ]
        }
      ]
    },
    {
      "cell_type": "code",
      "source": [
        "mydic[\"Password\"] = [1,2,3,4]\n",
        "print(mydic)"
      ],
      "metadata": {
        "colab": {
          "base_uri": "https://localhost:8080/"
        },
        "id": "aKbbIQLFnNjL",
        "outputId": "41383e7a-ab67-4dd7-8dd3-411634132136"
      },
      "execution_count": null,
      "outputs": [
        {
          "output_type": "stream",
          "name": "stdout",
          "text": [
            "{'username': 'Adams', 'Password': [1, 2, 3, 4], 'Batch': 2023, 'ID': 2536}\n"
          ]
        }
      ]
    },
    {
      "cell_type": "code",
      "source": [
        "mydic.pop(\"ID\")"
      ],
      "metadata": {
        "colab": {
          "base_uri": "https://localhost:8080/"
        },
        "id": "KJg6lRXw344U",
        "outputId": "eed5cc8f-58ae-4d3f-e978-681cec80030d"
      },
      "execution_count": null,
      "outputs": [
        {
          "output_type": "execute_result",
          "data": {
            "text/plain": [
              "2536"
            ]
          },
          "metadata": {},
          "execution_count": 9
        }
      ]
    },
    {
      "cell_type": "code",
      "source": [
        "del mydic\n",
        "print(mydic)"
      ],
      "metadata": {
        "colab": {
          "base_uri": "https://localhost:8080/",
          "height": 190
        },
        "id": "jA9w0A5A3-ON",
        "outputId": "a41effe6-be74-494d-cfa3-c500f1ee64de"
      },
      "execution_count": null,
      "outputs": [
        {
          "output_type": "error",
          "ename": "NameError",
          "evalue": "ignored",
          "traceback": [
            "\u001b[0;31m---------------------------------------------------------------------------\u001b[0m",
            "\u001b[0;31mNameError\u001b[0m                                 Traceback (most recent call last)",
            "\u001b[0;32m<ipython-input-10-7fc740cb3cc4>\u001b[0m in \u001b[0;36m<module>\u001b[0;34m\u001b[0m\n\u001b[1;32m      1\u001b[0m \u001b[0;32mdel\u001b[0m \u001b[0mmydic\u001b[0m\u001b[0;34m\u001b[0m\u001b[0;34m\u001b[0m\u001b[0m\n\u001b[0;32m----> 2\u001b[0;31m \u001b[0mprint\u001b[0m\u001b[0;34m(\u001b[0m\u001b[0mmydic\u001b[0m\u001b[0;34m)\u001b[0m\u001b[0;34m\u001b[0m\u001b[0;34m\u001b[0m\u001b[0m\n\u001b[0m",
            "\u001b[0;31mNameError\u001b[0m: name 'mydic' is not defined"
          ]
        }
      ]
    },
    {
      "cell_type": "code",
      "source": [
        "\n",
        "#Set - unordered colelction of datatypes , {}, duplicate vales are excluded\n",
        "\n",
        "myset = {\"Adams\", \"Task\",12.56, False, 12.56}\n",
        "print(myset)"
      ],
      "metadata": {
        "colab": {
          "base_uri": "https://localhost:8080/"
        },
        "id": "sFWrSKhL4Cgk",
        "outputId": "5ee0ce06-80d1-4890-a4c9-0cb7f83c1f9c"
      },
      "execution_count": null,
      "outputs": [
        {
          "output_type": "stream",
          "name": "stdout",
          "text": [
            "{'Adams', 'Task', 12.56, False}\n"
          ]
        }
      ]
    },
    {
      "cell_type": "code",
      "source": [
        "myset[0]\n"
      ],
      "metadata": {
        "colab": {
          "base_uri": "https://localhost:8080/",
          "height": 172
        },
        "id": "uVc88Ob14fIE",
        "outputId": "80c2e9de-a2ed-4b5e-fe06-bba5d42a0d55"
      },
      "execution_count": null,
      "outputs": [
        {
          "output_type": "error",
          "ename": "TypeError",
          "evalue": "ignored",
          "traceback": [
            "\u001b[0;31m---------------------------------------------------------------------------\u001b[0m",
            "\u001b[0;31mTypeError\u001b[0m                                 Traceback (most recent call last)",
            "\u001b[0;32m<ipython-input-15-5445583283da>\u001b[0m in \u001b[0;36m<module>\u001b[0;34m\u001b[0m\n\u001b[0;32m----> 1\u001b[0;31m \u001b[0mmyset\u001b[0m\u001b[0;34m[\u001b[0m\u001b[0;36m0\u001b[0m\u001b[0;34m]\u001b[0m\u001b[0;34m\u001b[0m\u001b[0;34m\u001b[0m\u001b[0m\n\u001b[0m",
            "\u001b[0;31mTypeError\u001b[0m: 'set' object is not subscriptable"
          ]
        }
      ]
    },
    {
      "cell_type": "code",
      "source": [
        "# instead of append set uses add, it can only add one value at one time\n",
        "myset.add(25)\n",
        "print(myset)"
      ],
      "metadata": {
        "colab": {
          "base_uri": "https://localhost:8080/"
        },
        "id": "3f0RmGG046F1",
        "outputId": "b8afdc54-51f8-4b7a-a1c2-e8263eec30d6"
      },
      "execution_count": null,
      "outputs": [
        {
          "output_type": "stream",
          "name": "stdout",
          "text": [
            "{False, 'Task', 12.56, 'Adams', 25}\n"
          ]
        }
      ]
    },
    {
      "cell_type": "code",
      "source": [
        "set1 ={1,2,3,4,5,6}\n",
        "set2 = {9,8,7,6,5}\n",
        "set1.extend(set2)"
      ],
      "metadata": {
        "colab": {
          "base_uri": "https://localhost:8080/",
          "height": 209
        },
        "id": "xcFMJfYk5eja",
        "outputId": "576dfe3a-678d-404b-fd2f-fe7f1b9fe164"
      },
      "execution_count": null,
      "outputs": [
        {
          "output_type": "error",
          "ename": "AttributeError",
          "evalue": "ignored",
          "traceback": [
            "\u001b[0;31m---------------------------------------------------------------------------\u001b[0m",
            "\u001b[0;31mAttributeError\u001b[0m                            Traceback (most recent call last)",
            "\u001b[0;32m<ipython-input-17-9eed644e0898>\u001b[0m in \u001b[0;36m<module>\u001b[0;34m\u001b[0m\n\u001b[1;32m      1\u001b[0m \u001b[0mset1\u001b[0m \u001b[0;34m=\u001b[0m\u001b[0;34m{\u001b[0m\u001b[0;36m1\u001b[0m\u001b[0;34m,\u001b[0m\u001b[0;36m2\u001b[0m\u001b[0;34m,\u001b[0m\u001b[0;36m3\u001b[0m\u001b[0;34m,\u001b[0m\u001b[0;36m4\u001b[0m\u001b[0;34m,\u001b[0m\u001b[0;36m5\u001b[0m\u001b[0;34m,\u001b[0m\u001b[0;36m6\u001b[0m\u001b[0;34m}\u001b[0m\u001b[0;34m\u001b[0m\u001b[0;34m\u001b[0m\u001b[0m\n\u001b[1;32m      2\u001b[0m \u001b[0mset2\u001b[0m \u001b[0;34m=\u001b[0m \u001b[0;34m{\u001b[0m\u001b[0;36m9\u001b[0m\u001b[0;34m,\u001b[0m\u001b[0;36m8\u001b[0m\u001b[0;34m,\u001b[0m\u001b[0;36m7\u001b[0m\u001b[0;34m,\u001b[0m\u001b[0;36m6\u001b[0m\u001b[0;34m,\u001b[0m\u001b[0;36m5\u001b[0m\u001b[0;34m}\u001b[0m\u001b[0;34m\u001b[0m\u001b[0;34m\u001b[0m\u001b[0m\n\u001b[0;32m----> 3\u001b[0;31m \u001b[0mset1\u001b[0m\u001b[0;34m.\u001b[0m\u001b[0mextend\u001b[0m\u001b[0;34m(\u001b[0m\u001b[0mset2\u001b[0m\u001b[0;34m)\u001b[0m\u001b[0;34m\u001b[0m\u001b[0;34m\u001b[0m\u001b[0m\n\u001b[0m",
            "\u001b[0;31mAttributeError\u001b[0m: 'set' object has no attribute 'extend'"
          ]
        }
      ]
    },
    {
      "cell_type": "code",
      "source": [
        "set3 = set1.union(set2)\n",
        "print(set3)"
      ],
      "metadata": {
        "colab": {
          "base_uri": "https://localhost:8080/"
        },
        "id": "1zxc7bL95wtP",
        "outputId": "13b80dad-db85-4167-bdde-1c0c1375104d"
      },
      "execution_count": null,
      "outputs": [
        {
          "output_type": "stream",
          "name": "stdout",
          "text": [
            "{1, 2, 3, 4, 5, 6, 7, 8, 9}\n"
          ]
        }
      ]
    },
    {
      "cell_type": "code",
      "source": [
        "Dec = {\"we\":123,\n",
        "       \"we\":988}  #over writes the same value if the key is same \n",
        "print(Dec)"
      ],
      "metadata": {
        "colab": {
          "base_uri": "https://localhost:8080/"
        },
        "id": "wf6jvmcJ53U2",
        "outputId": "fda43e20-c7c4-46cc-e2a5-176984630480"
      },
      "execution_count": null,
      "outputs": [
        {
          "output_type": "stream",
          "name": "stdout",
          "text": [
            "{'we': 988}\n"
          ]
        }
      ]
    },
    {
      "cell_type": "code",
      "source": [
        "set3 = set1.intersection(set2)\n",
        "print(set3)"
      ],
      "metadata": {
        "colab": {
          "base_uri": "https://localhost:8080/"
        },
        "id": "TTiYd1c96G9-",
        "outputId": "101ea80d-4abb-4fc4-cb51-55fd8e6f7883"
      },
      "execution_count": null,
      "outputs": [
        {
          "output_type": "stream",
          "name": "stdout",
          "text": [
            "{5, 6}\n"
          ]
        }
      ]
    },
    {
      "cell_type": "code",
      "source": [
        "set2. clear() # The variable will be defined but the data inside of it will be cleared \n",
        "print(set2)"
      ],
      "metadata": {
        "colab": {
          "base_uri": "https://localhost:8080/"
        },
        "id": "2M3Cj0vK8UKC",
        "outputId": "54499c14-6caf-4656-ef71-0b0fdb77770c"
      },
      "execution_count": null,
      "outputs": [
        {
          "output_type": "stream",
          "name": "stdout",
          "text": [
            "set()\n"
          ]
        }
      ]
    },
    {
      "cell_type": "code",
      "source": [
        "# Assignment 1\n",
        "# Create a two different examples for collective datatypes in python \n"
      ],
      "metadata": {
        "id": "lL7Irvrc89SM"
      },
      "execution_count": 1,
      "outputs": []
    },
    {
      "cell_type": "code",
      "source": [
        "print(\"Hello All !\\nGood evening everyone !\") #\\n - for new line "
      ],
      "metadata": {
        "colab": {
          "base_uri": "https://localhost:8080/"
        },
        "id": "HtB8mnCZvvnr",
        "outputId": "9a428fef-941a-4bfa-df08-72bdd80666ab"
      },
      "execution_count": 5,
      "outputs": [
        {
          "output_type": "stream",
          "name": "stdout",
          "text": [
            "Hello All !\n",
            "Good evening everyone !\n"
          ]
        }
      ]
    },
    {
      "cell_type": "code",
      "source": [
        "#Function \n",
        "def func():\n",
        "  print(\"Hello All !\\nGood evening everyone !\") \n",
        "\n",
        "func()"
      ],
      "metadata": {
        "colab": {
          "base_uri": "https://localhost:8080/"
        },
        "id": "cHVUb3TlwNSg",
        "outputId": "ff3880d2-d5a4-47b9-8707-f2bf708a1cc6"
      },
      "execution_count": 7,
      "outputs": [
        {
          "output_type": "stream",
          "name": "stdout",
          "text": [
            "Hello All !\n",
            "Good evening everyone !\n"
          ]
        }
      ]
    },
    {
      "cell_type": "code",
      "source": [
        "def add(num1, num2):\n",
        "  print(\"The addition of two values are\",num1+num2)\n",
        "\n",
        "add(2,4)"
      ],
      "metadata": {
        "colab": {
          "base_uri": "https://localhost:8080/"
        },
        "id": "OSjKsafHxCe0",
        "outputId": "e657c541-6754-443c-8898-2203344c9be1"
      },
      "execution_count": 10,
      "outputs": [
        {
          "output_type": "stream",
          "name": "stdout",
          "text": [
            "The addition of two values are 6\n"
          ]
        }
      ]
    },
    {
      "cell_type": "code",
      "source": [
        "def a(name):\n",
        "  print(\"My favourite cartoon name is \", name)\n",
        "\n",
        "a(\"Tom\")\n",
        "  \n"
      ],
      "metadata": {
        "colab": {
          "base_uri": "https://localhost:8080/"
        },
        "id": "Dg8g31JgyjMx",
        "outputId": "a1a7a0fc-abe6-48da-b541-11b885305873"
      },
      "execution_count": 12,
      "outputs": [
        {
          "output_type": "stream",
          "name": "stdout",
          "text": [
            "My favourite cartoon name is  Tom\n"
          ]
        }
      ]
    },
    {
      "cell_type": "code",
      "source": [
        "def subs(num1, num2):\n",
        "  print(\"The difference of two numbers is: \", (num1 - num2 ))\n",
        "\n",
        "subs(345,200)"
      ],
      "metadata": {
        "colab": {
          "base_uri": "https://localhost:8080/"
        },
        "id": "opCioMJ6zlrt",
        "outputId": "fb51a879-d13d-4866-b702-9c8473890d0f"
      },
      "execution_count": 13,
      "outputs": [
        {
          "output_type": "stream",
          "name": "stdout",
          "text": [
            "The difference of two numbers is:  145\n"
          ]
        }
      ]
    },
    {
      "cell_type": "code",
      "source": [
        "def prod(num1, num2):\n",
        "  print(\"The product of two numbers is: \", (num1*num2 ))\n",
        "\n",
        "prod(34,20) "
      ],
      "metadata": {
        "colab": {
          "base_uri": "https://localhost:8080/"
        },
        "id": "zfNUQokezzr3",
        "outputId": "9550c130-f22e-4236-9b87-5d649b80f58a"
      },
      "execution_count": 15,
      "outputs": [
        {
          "output_type": "stream",
          "name": "stdout",
          "text": [
            "The product of two numbers is:  680\n"
          ]
        }
      ]
    },
    {
      "cell_type": "code",
      "source": [
        "#for loop\n",
        "a = 5\n",
        "for x in range (0,a):\n",
        "  print(x)"
      ],
      "metadata": {
        "colab": {
          "base_uri": "https://localhost:8080/"
        },
        "id": "_nNBVgBo0AnO",
        "outputId": "27efa028-133f-4643-fd1e-5c75a922013e"
      },
      "execution_count": 16,
      "outputs": [
        {
          "output_type": "stream",
          "name": "stdout",
          "text": [
            "0\n",
            "1\n",
            "2\n",
            "3\n",
            "4\n"
          ]
        }
      ]
    },
    {
      "cell_type": "code",
      "source": [
        "a = 5\n",
        "for x in range (0,a):\n",
        "  print(x+1)"
      ],
      "metadata": {
        "colab": {
          "base_uri": "https://localhost:8080/"
        },
        "id": "z22bTOtd0xhe",
        "outputId": "535fa5c5-6d74-4deb-82d9-7b619fe32749"
      },
      "execution_count": 18,
      "outputs": [
        {
          "output_type": "stream",
          "name": "stdout",
          "text": [
            "1\n",
            "2\n",
            "3\n",
            "4\n",
            "5\n"
          ]
        }
      ]
    },
    {
      "cell_type": "code",
      "source": [
        "mylist = [\"Data\",\"Status\",\"Completed\",\"Types\",263, False ]\n",
        "for x in mylist:\n",
        "  print(x)"
      ],
      "metadata": {
        "colab": {
          "base_uri": "https://localhost:8080/"
        },
        "id": "1jkvbW4T09qD",
        "outputId": "4a05a51c-61a1-406c-fdb4-5dfa9cbcdc36"
      },
      "execution_count": 22,
      "outputs": [
        {
          "output_type": "stream",
          "name": "stdout",
          "text": [
            "Data\n",
            "Status\n",
            "Completed\n",
            "Types\n",
            "263\n",
            "False\n"
          ]
        }
      ]
    },
    {
      "cell_type": "code",
      "source": [
        "for x in range (0,5):\n",
        "  func()"
      ],
      "metadata": {
        "colab": {
          "base_uri": "https://localhost:8080/"
        },
        "id": "PbyKxIKv1g6-",
        "outputId": "965775bb-b790-4021-da1b-975f76a52e47"
      },
      "execution_count": 23,
      "outputs": [
        {
          "output_type": "stream",
          "name": "stdout",
          "text": [
            "Hello All !\n",
            "Good evening everyone !\n",
            "Hello All !\n",
            "Good evening everyone !\n",
            "Hello All !\n",
            "Good evening everyone !\n",
            "Hello All !\n",
            "Good evening everyone !\n",
            "Hello All !\n",
            "Good evening everyone !\n"
          ]
        }
      ]
    },
    {
      "cell_type": "code",
      "source": [
        "if ( 2<5):\n",
        "  print(\"2 is smaller than 5\")\n",
        "else:\n",
        "  print(\"5 is greater than 2\")"
      ],
      "metadata": {
        "colab": {
          "base_uri": "https://localhost:8080/"
        },
        "id": "lpaJYj4m19W8",
        "outputId": "367f566a-2368-4501-c15b-81169be72d3a"
      },
      "execution_count": 24,
      "outputs": [
        {
          "output_type": "stream",
          "name": "stdout",
          "text": [
            "2 is smaller than 5\n"
          ]
        }
      ]
    },
    {
      "cell_type": "code",
      "source": [
        "if ( 2>5):\n",
        "  print(\"2 is smaller than 5\")\n",
        "else:\n",
        "  print(\"5 is greater than 2\")"
      ],
      "metadata": {
        "colab": {
          "base_uri": "https://localhost:8080/"
        },
        "id": "c9Oxdue24DIZ",
        "outputId": "1f5e9739-9c9c-4129-ec21-ac4f940aec12"
      },
      "execution_count": 25,
      "outputs": [
        {
          "output_type": "stream",
          "name": "stdout",
          "text": [
            "5 is greater than 2\n"
          ]
        }
      ]
    },
    {
      "cell_type": "code",
      "source": [
        "def quiz(choice):\n",
        "  if (choice == (\"a\"or \"b\"or \"c\")):\n",
        "    print(\"You have won !\")\n",
        "  elif (choice == (\"d\"or \"e\"or\"f\")):\n",
        "    print(\"You have lost!\")\n",
        "  else:\n",
        "    print(\"Tie breaker\")\n",
        "\n",
        "choice = input(\"Enter your choice (a,b,c,d,e,f):\")\n",
        "quiz(choice)\n"
      ],
      "metadata": {
        "colab": {
          "base_uri": "https://localhost:8080/"
        },
        "id": "S3PDHSb34KjP",
        "outputId": "84fd5f00-fb16-4e8a-f3be-bc14dc7169b1"
      },
      "execution_count": 36,
      "outputs": [
        {
          "output_type": "stream",
          "name": "stdout",
          "text": [
            "Enter your choice (a,b,c,d,e,f):d\n",
            "You have lost!\n"
          ]
        }
      ]
    },
    {
      "cell_type": "code",
      "source": [
        "\n"
      ],
      "metadata": {
        "id": "UHRakQuu5djR"
      },
      "execution_count": 27,
      "outputs": []
    }
  ]
}